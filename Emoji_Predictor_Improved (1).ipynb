{
  "cells": [
    {
      "cell_type": "markdown",
      "id": "b873344f",
      "metadata": {
        "id": "b873344f"
      },
      "source": [
        "# 📦 Emoji Predictor (Improved)\n",
        "A simple ML mini project using TF-IDF and LogisticRegression."
      ]
    },
    {
      "cell_type": "code",
      "execution_count": null,
      "id": "9dc980da",
      "metadata": {
        "colab": {
          "base_uri": "https://localhost:8080/"
        },
        "id": "9dc980da",
        "outputId": "3689b251-0075-4825-a956-8b275daf48f8"
      },
      "outputs": [
        {
          "output_type": "stream",
          "name": "stdout",
          "text": [
            "Total samples: 36\n",
            "                                text emoji\n",
            "0               I am so happy today!     😊\n",
            "1         Feeling very sad and down.     😢\n",
            "2             That was really funny!     😂\n",
            "3          I am so angry about this!     😡\n",
            "4               Wow, that's amazing!     🤩\n",
            "5                  I love my family.    ❤️\n",
            "6            I'm scared of the dark.     😱\n",
            "7                 What a boring day.     😴\n",
            "8                 I'm feeling great!     😊\n",
            "9                   I'm heartbroken.     💔\n",
            "10                 This made my day!     😊\n",
            "11              I'm depressed today.     😢\n",
            "12          That joke cracked me up!     😂\n",
            "13            I'm furious right now!     😡\n",
            "14        Such an incredible moment!     🤩\n",
            "15         Sending love to everyone.    ❤️\n",
            "16      That horror movie was scary!     😱\n",
            "17            Yawn... nothing to do.     😴\n",
            "18               Life feels awesome!     😊\n",
            "19                     I'm in tears.     😢\n",
            "20              Can't stop laughing!     😂\n",
            "21      I hate everything right now!     😡\n",
            "22        Feeling blessed and happy.     😊\n",
            "23                   My heart aches.     💔\n",
            "24           This is so frustrating!     😡\n",
            "25          Overjoyed with the news!     🤩\n",
            "26          Terrified by that noise.     😱\n",
            "27                   Feeling sleepy.     😴\n",
            "28                 Laughing so hard!     😂\n",
            "29                    Broken inside.     💔\n",
            "30   I can't believe I won the game!     😊\n",
            "31  Feeling completely empty inside.     💔\n",
            "32                    Best day ever!     🤩\n",
            "33       I'm so tired of everything.     😢\n",
            "34      That was absolutely amazing!     🤩\n",
            "35                     I feel sleepy     😴\n"
          ]
        }
      ],
      "source": [
        "\n",
        "import pandas as pd\n",
        "\n",
        "# New bigger dataset\n",
        "data = {\n",
        "    'text': [\n",
        "        \"I am so happy today!\", \"Feeling very sad and down.\", \"That was really funny!\",\n",
        "        \"I am so angry about this!\", \"Wow, that's amazing!\", \"I love my family.\",\n",
        "        \"I'm scared of the dark.\", \"What a boring day.\", \"I'm feeling great!\", \"I'm heartbroken.\",\n",
        "        \"This made my day!\", \"I'm depressed today.\", \"That joke cracked me up!\", \"I'm furious right now!\",\n",
        "        \"Such an incredible moment!\", \"Sending love to everyone.\", \"That horror movie was scary!\",\n",
        "        \"Yawn... nothing to do.\", \"Life feels awesome!\", \"I'm in tears.\", \"Can't stop laughing!\",\n",
        "        \"I hate everything right now!\", \"Feeling blessed and happy.\", \"My heart aches.\",\n",
        "        \"This is so frustrating!\", \"Overjoyed with the news!\", \"Terrified by that noise.\",\n",
        "        \"Feeling sleepy.\", \"Laughing so hard!\", \"Broken inside.\",\n",
        "        \"I can't believe I won the game!\",\"Feeling completely empty inside.\",\n",
        "        \"Best day ever!\",\"I'm so tired of everything.\",\"That was absolutely amazing!\",\"I feel sleepy\"\n",
        "\n",
        "    ],\n",
        "    'emoji': [\n",
        "        \"😊\", \"😢\", \"😂\", \"😡\", \"🤩\", \"❤️\", \"😱\", \"😴\", \"😊\", \"💔\",\n",
        "        \"😊\", \"😢\", \"😂\", \"😡\", \"🤩\", \"❤️\", \"😱\", \"😴\", \"😊\", \"😢\",\n",
        "        \"😂\", \"😡\", \"😊\", \"💔\", \"😡\", \"🤩\", \"😱\", \"😴\", \"😂\", \"💔\",\"😊\", \"💔\", \"🤩\", \"😢\", \"🤩\",\"😴\"\n",
        "    ]\n",
        "}\n",
        "\n",
        "df = pd.DataFrame(data)\n",
        "\n",
        "print(\"Total samples:\", len(df))\n",
        "print(df)\n"
      ]
    },
    {
      "cell_type": "code",
      "execution_count": null,
      "id": "de4c77e8",
      "metadata": {
        "colab": {
          "base_uri": "https://localhost:8080/"
        },
        "id": "de4c77e8",
        "outputId": "abbcf997-3181-47ec-ec4a-f937a06efd36"
      },
      "outputs": [
        {
          "output_type": "stream",
          "name": "stdout",
          "text": [
            "Accuracy: 0.0\n"
          ]
        }
      ],
      "source": [
        "\n",
        "from sklearn.feature_extraction.text import TfidfVectorizer\n",
        "from sklearn.model_selection import train_test_split\n",
        "from sklearn.linear_model import LogisticRegression\n",
        "from sklearn.metrics import accuracy_score\n",
        "\n",
        "# Convert text to numbers\n",
        "vectorizer = TfidfVectorizer()\n",
        "X = vectorizer.fit_transform(df['text'])\n",
        "y = df['emoji']\n",
        "\n",
        "# Split into train/test\n",
        "X_train, X_test, y_train, y_test = train_test_split(\n",
        "    X, y, test_size=0.3, random_state=42)\n",
        "\n",
        "# Train model\n",
        "model = LogisticRegression(max_iter=200)\n",
        "model.fit(X_train, y_train)\n",
        "\n",
        "# Predict on test set\n",
        "y_pred = model.predict(X_test)\n",
        "\n",
        "# See accuracy\n",
        "print(\"Accuracy:\", accuracy_score(y_test, y_pred))\n"
      ]
    },
    {
      "cell_type": "code",
      "execution_count": null,
      "id": "0bd9ea69",
      "metadata": {
        "colab": {
          "base_uri": "https://localhost:8080/"
        },
        "id": "0bd9ea69",
        "outputId": "64931257-46bb-4337-94ed-510a20db4203"
      },
      "outputs": [
        {
          "output_type": "stream",
          "name": "stdout",
          "text": [
            "This is fantastic! → 😊\n",
            "I feel very sad today. → 😢\n",
            "I'm so mad! → 😊\n",
            "I can't stop laughing! → 😂\n",
            "My heart hurts so much. → 😊\n"
          ]
        }
      ],
      "source": [
        "\n",
        "new_text = [\"This is fantastic!\", \"I feel very sad today.\", \"I'm so mad!\", \"I can't stop laughing!\", \"My heart hurts so much.\"]\n",
        "\n",
        "# Transform\n",
        "new_X = vectorizer.transform(new_text)\n",
        "\n",
        "# Predict\n",
        "predictions = model.predict(new_X)\n",
        "\n",
        "# Show results\n",
        "for text, emoji in zip(new_text, predictions):\n",
        "    print(f\"{text} → {emoji}\")\n"
      ]
    },
    {
      "cell_type": "code",
      "source": [
        "new_text = [\"I feel very happy!\", \"I'm so sad.\", \"That was hilarious!\",\"i feel sleepy\"]\n",
        "\n",
        "# Transform\n",
        "new_X = vectorizer.transform(new_text)\n",
        "\n",
        "# Predict\n",
        "predictions = model.predict(new_X)\n",
        "\n",
        "# Show results\n",
        "for text, emoji in zip(new_text, predictions):\n",
        "    print(f\"{text} → {emoji}\")\n"
      ],
      "metadata": {
        "colab": {
          "base_uri": "https://localhost:8080/"
        },
        "id": "HZN_A3Xl5hq4",
        "outputId": "e938e0bd-35bd-4baf-a9f8-ea5fec49f4ba"
      },
      "id": "HZN_A3Xl5hq4",
      "execution_count": null,
      "outputs": [
        {
          "output_type": "stream",
          "name": "stdout",
          "text": [
            "I feel very happy! → 😊\n",
            "I'm so sad. → 😢\n",
            "That was hilarious! → 🤩\n",
            "i feel sleepy → 🤩\n"
          ]
        }
      ]
    },
    {
      "cell_type": "code",
      "source": [
        "import pandas as pd\n",
        "\n",
        "# New bigger dataset\n",
        "data = {\n",
        "    'text': [\n",
        "        # 😊 happy / positive\n",
        "        \"I am so happy today!\", \"Feeling blessed and joyful.\", \"Life is beautiful!\", \"Best day ever!\",\n",
        "        \"Excited about my new job!\", \"Overjoyed with the results!\", \"What a wonderful surprise!\",\n",
        "        \"Feeling cheerful and light.\", \"Smiling all day long!\", \"Today feels amazing!\",\n",
        "        \"I'm very happy today!\", \"Feeling super happy!\", \"Overflowing with happiness\", \"Can't stop smiling!\", \"What a happy moment!\",\n",
        "        \"I'm  happy today!\",\"I'm so very happy right now!\",\"Really feeling very happy!\",\"Feeling incredibly happy today!\",\n",
        "        \"I'm extremely happy!\",\n",
        "\n",
        "\n",
        "        # 😢 sad\n",
        "        \"Feeling very sad and down.\", \"I'm heartbroken.\", \"Tears won't stop.\", \"Life feels so hard.\",\n",
        "        \"I'm depressed today.\", \"Everything feels gloomy.\", \"Can't stop crying.\", \"My heart aches.\",\n",
        "        \"Feeling completely empty.\", \"I'm in tears.\",\"Feeling very sad and down.\", \"I'm unhappy.\", \"Tears won't stop.\",\n",
        "        \"Life feels so hard.\", \"I'm depressed today.\",\"Everything feels gloomy.\", \"Can't stop crying.\", \"My heart aches.\",\n",
        "        \"Feeling completely empty.\",  \"I'm vey sad about that incident.\",\n",
        "\n",
        "\n",
        "        # 😂 funny / laugh\n",
        "        \"That was really funny!\", \"Can't stop laughing!\", \"That joke cracked me up!\", \"Laughing so hard!\",\n",
        "        \"ROFL! That was hilarious!\", \"My friend is so funny!\", \"I burst into laughter!\", \"Such a funny moment!\",\n",
        "        \"That meme is killing me!\", \"LOL! Too funny!\",\"That made me giggle so much!\",\n",
        "        \"I can't breathe, it's too funny!\",\"My stomach hurts from laughing!\",\"This joke is gold!\",\"Absolute comedy genius!\",\n",
        "        \"Too hilarious to handle!\",\"I keep replaying it and laughing!\",\"Such a goofy moment!\",\"I chuckled out loud!\",\n",
        "        \"it's a joke\",\n",
        "\n",
        "        # 😡 angry\n",
        "        \"I am so angry about this!\", \"This is so frustrating!\", \"I'm furious right now!\", \"I hate everything!\",\n",
        "        \"Why is this happening!\", \"I'm mad beyond words!\", \"My blood is boiling!\", \"Totally pissed off today!\",\n",
        "        \"This makes me so angry!\", \"I'm annoyed with you\",\"This just ruined my whole day!\",\"I'm fed up with this nonsense!\",\n",
        "        \"That really ticks me off!\",\"Why can't things go right for once!\",\"I'm sick of this crap!\",\n",
        "        \"Enough is enough!\",\"It's making me so mad right now!\",\"Everything is so annoying today!\",\n",
        "        \"I'm frustrated with you\",\"I'm angry with you!\",\n",
        "\n",
        "        # 🤩 excited / amazed\n",
        "        \"Wow, that's amazing!\", \"Such an incredible moment!\", \"I'm so excited!\", \"Feeling thrilled!\",\n",
        "        \"Can't wait for tomorrow!\", \"Over the moon with joy!\", \"Best news ever!\", \"I'm absolutely stunned!\",\n",
        "        \"What a breathtaking view!\", \"This is fantastic!\",\"I'm bursting with excitement!\",\n",
        "        \"This just made my whole day!\",\"Unbelievably awesome news!\",\"Feeling so pumped right now!\",\n",
        "        \"I can't stop smiling, it's so amazing!\",\"This is beyond anything I hoped for!\",\"Such an epic moment!\",\n",
        "        \"My mind is blown away!\",\"Totally wowed by this surprise!\",\"Absolutely can't wait to see what happens next!\",\n",
        "\n",
        "        # 😴 sleepy / tired\n",
        "        \"I feel sleepy.\", \"Can't keep my eyes open.\", \"Feeling so drowsy.\", \"Time to take a nap.\",\n",
        "        \"I'm so tired.\", \"Yawn... need some rest.\", \"My eyes are closing.\", \"Really need to sleep now.\",\n",
        "        \"Exhausted after a long day.\", \"Bed is calling me.\",\"Struggling to stay awake right now.\",\n",
        "        \"So sleepy I can barely think.\",\"I could fall asleep standing up.\",\"Running on empty today.\",\n",
        "        \"Dreaming of my cozy bed.\",\"Completely drained after everything.\",\"Eyes heavy and ready to close.\",\n",
        "      \"Wish I could curl up and sleep.\",\"Barely keeping my head up.\",\"All I want is a long nap.\",\n",
        "\n",
        "        # ❤️ love / caring\n",
        "        \"I love my family.\", \"Sending love to everyone.\", \"Feeling loved and cared for.\", \"My heart is full of love.\",\n",
        "        \"Cherishing these moments.\", \"Grateful for the people around me.\", \"So much love today!\",\n",
        "        \"Loved by my friends.\", \"Warm hugs to all!\", \"Feeling affectionate.\",\"My heart feels so warm today.\",\n",
        "        \"Love is all around me.\",\"I adore these little moments.\",\"Forever grateful for this love.\",\"I feel so blessed to have them.\",\n",
        "        \"Sharing my heart with you all.\",\"This fills me with happiness and love.\",\"Love makes everything brighter.\",\n",
        "        \"Holding my dear ones close in my heart.\",\"Overflowing with affection today!\",\n",
        "\n",
        "        # 💔 broken / hurt\n",
        "        \"My heart is broken.\", \"Feeling betrayed.\", \"It's so painful inside.\", \"Can't heal from this pain.\",\n",
        "        \"Shattered inside.\", \"Crying myself to sleep.\", \"Love hurts so much.\", \"Emotional pain is real.\",\n",
        "        \"Broken beyond repair.\", \"So hurt and alone.\",\"My soul feels crushed right now.\",\n",
        "        \"I can't stop thinking about the pain.\",\"Everything reminds me of what I lost.\",\n",
        "        \"It's tearing me apart inside.\",\"Loneliness hurts more than words can say.\",\n",
        "        \"This sadness feels endless.\",\"Trying to hold back the tears but failing.\",\n",
        "        \"Feeling empty and forgotten.\",\"All that's left is pain and silence.\",\"Hurting more than anyone knows.\",\n",
        "\n",
        "        # 😱 scared / afraid\n",
        "        \"I'm scared of the dark.\", \"That horror movie was scary!\", \"Terrified by that noise.\", \"Feeling fearful tonight.\",\n",
        "        \"Anxious about tomorrow.\", \"Heart racing with fear.\", \"Can't stop thinking about that nightmare.\",\n",
        "        \"Something feels off and scary.\", \"Afraid to be alone.\", \"Startled by every sound.\",\n",
        "        \"I feel chills just thinking about it.\",\"My hands won't stop shaking from fear.\",\"Panicking over what might happen next.\",\n",
        "        \"Every little sound makes me jump.\",\"Dreading what’s waiting in the dark.\",\"Frozen with fear right now.\",\n",
        "        \"I can't calm my racing heart.\",\"So nervous I can barely breathe.\",\n",
        "        \"Wishing someone was here with me.\",\"Fear keeps me awake at night.\",\n",
        "\n",
        "        # 😋 hungry / craving\n",
        "        \"I'm hungry.\", \"My stomach is growling.\", \"I'm very hungry\", \"I'm starving!\",\n",
        "        \"Craving something delicious.\", \"It’s time to grab some food.\", \"Really craving snacks right now.\",\n",
        "        \"Need something to eat.\", \"Looking for something tasty.\", \"My tummy is rumbling.\",\n",
        "        \"Dinner sounds amazing now\", \"So hungry after my workout\", \"Lunch time can’t come soon enough\",\n",
        "        \"My stomach keeps rumbling\", \"Need food right now!\"\n",
        "    ],\n",
        "    'emoji': [\"😊\"]*20 + [\"😢\"]*20 + [\"😂\"]*20 + [\"😡\"]*20 + [\"🤩\"]*20 +\n",
        "        [\"😴\"]*20 + [\"❤️\"]*20 + [\"💔\"]*20 + [\"😱\"]*20 + [\"😋\"]*15\n",
        "}\n",
        "\n",
        "\n",
        "\n",
        "\n",
        "df = pd.DataFrame(data)\n",
        "\n",
        "print(\"Total samples:\", len(df))\n",
        "print(df)"
      ],
      "metadata": {
        "colab": {
          "base_uri": "https://localhost:8080/"
        },
        "id": "8PrMYxOa50Cp",
        "outputId": "320a5842-6385-4e2c-e1e0-f49a2ef2b660"
      },
      "id": "8PrMYxOa50Cp",
      "execution_count": 72,
      "outputs": [
        {
          "output_type": "stream",
          "name": "stdout",
          "text": [
            "Total samples: 195\n",
            "                                  text emoji\n",
            "0                 I am so happy today!     😊\n",
            "1          Feeling blessed and joyful.     😊\n",
            "2                   Life is beautiful!     😊\n",
            "3                       Best day ever!     😊\n",
            "4            Excited about my new job!     😊\n",
            "..                                 ...   ...\n",
            "190          Dinner sounds amazing now     😋\n",
            "191         So hungry after my workout     😋\n",
            "192  Lunch time can’t come soon enough     😋\n",
            "193          My stomach keeps rumbling     😋\n",
            "194               Need food right now!     😋\n",
            "\n",
            "[195 rows x 2 columns]\n"
          ]
        }
      ]
    },
    {
      "cell_type": "code",
      "source": [
        "from sklearn.feature_extraction.text import TfidfVectorizer\n",
        "from sklearn.model_selection import train_test_split\n",
        "from sklearn.linear_model import LogisticRegression\n",
        "from sklearn.metrics import accuracy_score\n",
        "\n",
        "# Convert text to numbers\n",
        "vectorizer = TfidfVectorizer()\n",
        "X = vectorizer.fit_transform(df['text'])\n",
        "y = df['emoji']\n",
        "\n",
        "# Split into train/test\n",
        "X_train, X_test, y_train, y_test = train_test_split(\n",
        "    X, y, test_size=0.3, random_state=42)\n",
        "\n",
        "# Train model\n",
        "model = LogisticRegression(max_iter=200)\n",
        "model.fit(X_train, y_train)\n",
        "\n",
        "# Predict on test set\n",
        "y_pred = model.predict(X_test)\n",
        "\n",
        "# See accuracy\n",
        "print(\"Accuracy:\", accuracy_score(y_test, y_pred))"
      ],
      "metadata": {
        "colab": {
          "base_uri": "https://localhost:8080/"
        },
        "id": "oqX9iU-Z69LQ",
        "outputId": "2119d588-9282-496e-f0cc-561d7947dfa4"
      },
      "id": "oqX9iU-Z69LQ",
      "execution_count": 73,
      "outputs": [
        {
          "output_type": "stream",
          "name": "stdout",
          "text": [
            "Accuracy: 0.4745762711864407\n"
          ]
        }
      ]
    },
    {
      "cell_type": "code",
      "source": [
        "new_text = [\"i'm hungry\", \"i'm depressed\" , \"I'm very sad\", \"nice joke\",\"i'm angry with you baby\",\"i very scared about him\",\"i love myself\",\"My heart is broken now.\",\"wow\",\"i felt sleepy\"]\n",
        "\n",
        "# Transform\n",
        "new_X = vectorizer.transform(new_text)\n",
        "\n",
        "# Predict\n",
        "predictions = model.predict(new_X)\n",
        "\n",
        "# Show results\n",
        "for text, emoji in zip(new_text, predictions):\n",
        "    print(f\"{text} → {emoji}\")"
      ],
      "metadata": {
        "colab": {
          "base_uri": "https://localhost:8080/"
        },
        "id": "6eFmjjF-7Bky",
        "outputId": "02ff99c5-c8de-46cd-c5af-aa78e64ea4de"
      },
      "id": "6eFmjjF-7Bky",
      "execution_count": 74,
      "outputs": [
        {
          "output_type": "stream",
          "name": "stdout",
          "text": [
            "i'm hungry → 😋\n",
            "i'm depressed → 😢\n",
            "I'm very sad → 😢\n",
            "nice joke → 😂\n",
            "i'm angry with you baby → 😡\n",
            "i very scared about him → 😱\n",
            "i love myself → ❤️\n",
            "My heart is broken now. → 💔\n",
            "wow → 🤩\n",
            "i felt sleepy → 😴\n"
          ]
        }
      ]
    },
    {
      "cell_type": "code",
      "source": [
        "import joblib\n",
        "\n",
        "# Save the trained model to a file named 'emoji_model.pkl'\n",
        "joblib.dump(model, 'emoji_model.pkl')\n",
        "\n",
        "# Save the vectorizer to a file named 'vectorizer.pkl'\n",
        "joblib.dump(vectorizer, 'vectorizer.pkl')\n"
      ],
      "metadata": {
        "colab": {
          "base_uri": "https://localhost:8080/"
        },
        "id": "GApPwiyg_A8W",
        "outputId": "811846bc-7c60-4222-8378-7f7649c15869"
      },
      "id": "GApPwiyg_A8W",
      "execution_count": 75,
      "outputs": [
        {
          "output_type": "execute_result",
          "data": {
            "text/plain": [
              "['vectorizer.pkl']"
            ]
          },
          "metadata": {},
          "execution_count": 75
        }
      ]
    },
    {
      "cell_type": "code",
      "source": [
        "from google.colab import files\n",
        "files.download('emoji_model.pkl')\n",
        "files.download('vectorizer.pkl')\n"
      ],
      "metadata": {
        "colab": {
          "base_uri": "https://localhost:8080/",
          "height": 17
        },
        "id": "yqLrlBdN_T8c",
        "outputId": "29d5374f-8546-485d-e655-c2e0cc327867"
      },
      "id": "yqLrlBdN_T8c",
      "execution_count": 77,
      "outputs": [
        {
          "output_type": "display_data",
          "data": {
            "text/plain": [
              "<IPython.core.display.Javascript object>"
            ],
            "application/javascript": [
              "\n",
              "    async function download(id, filename, size) {\n",
              "      if (!google.colab.kernel.accessAllowed) {\n",
              "        return;\n",
              "      }\n",
              "      const div = document.createElement('div');\n",
              "      const label = document.createElement('label');\n",
              "      label.textContent = `Downloading \"${filename}\": `;\n",
              "      div.appendChild(label);\n",
              "      const progress = document.createElement('progress');\n",
              "      progress.max = size;\n",
              "      div.appendChild(progress);\n",
              "      document.body.appendChild(div);\n",
              "\n",
              "      const buffers = [];\n",
              "      let downloaded = 0;\n",
              "\n",
              "      const channel = await google.colab.kernel.comms.open(id);\n",
              "      // Send a message to notify the kernel that we're ready.\n",
              "      channel.send({})\n",
              "\n",
              "      for await (const message of channel.messages) {\n",
              "        // Send a message to notify the kernel that we're ready.\n",
              "        channel.send({})\n",
              "        if (message.buffers) {\n",
              "          for (const buffer of message.buffers) {\n",
              "            buffers.push(buffer);\n",
              "            downloaded += buffer.byteLength;\n",
              "            progress.value = downloaded;\n",
              "          }\n",
              "        }\n",
              "      }\n",
              "      const blob = new Blob(buffers, {type: 'application/binary'});\n",
              "      const a = document.createElement('a');\n",
              "      a.href = window.URL.createObjectURL(blob);\n",
              "      a.download = filename;\n",
              "      div.appendChild(a);\n",
              "      a.click();\n",
              "      div.remove();\n",
              "    }\n",
              "  "
            ]
          },
          "metadata": {}
        },
        {
          "output_type": "display_data",
          "data": {
            "text/plain": [
              "<IPython.core.display.Javascript object>"
            ],
            "application/javascript": [
              "download(\"download_0177dbf2-a6c9-4389-9e29-804964de0484\", \"emoji_model.pkl\", 27703)"
            ]
          },
          "metadata": {}
        },
        {
          "output_type": "display_data",
          "data": {
            "text/plain": [
              "<IPython.core.display.Javascript object>"
            ],
            "application/javascript": [
              "\n",
              "    async function download(id, filename, size) {\n",
              "      if (!google.colab.kernel.accessAllowed) {\n",
              "        return;\n",
              "      }\n",
              "      const div = document.createElement('div');\n",
              "      const label = document.createElement('label');\n",
              "      label.textContent = `Downloading \"${filename}\": `;\n",
              "      div.appendChild(label);\n",
              "      const progress = document.createElement('progress');\n",
              "      progress.max = size;\n",
              "      div.appendChild(progress);\n",
              "      document.body.appendChild(div);\n",
              "\n",
              "      const buffers = [];\n",
              "      let downloaded = 0;\n",
              "\n",
              "      const channel = await google.colab.kernel.comms.open(id);\n",
              "      // Send a message to notify the kernel that we're ready.\n",
              "      channel.send({})\n",
              "\n",
              "      for await (const message of channel.messages) {\n",
              "        // Send a message to notify the kernel that we're ready.\n",
              "        channel.send({})\n",
              "        if (message.buffers) {\n",
              "          for (const buffer of message.buffers) {\n",
              "            buffers.push(buffer);\n",
              "            downloaded += buffer.byteLength;\n",
              "            progress.value = downloaded;\n",
              "          }\n",
              "        }\n",
              "      }\n",
              "      const blob = new Blob(buffers, {type: 'application/binary'});\n",
              "      const a = document.createElement('a');\n",
              "      a.href = window.URL.createObjectURL(blob);\n",
              "      a.download = filename;\n",
              "      div.appendChild(a);\n",
              "      a.click();\n",
              "      div.remove();\n",
              "    }\n",
              "  "
            ]
          },
          "metadata": {}
        },
        {
          "output_type": "display_data",
          "data": {
            "text/plain": [
              "<IPython.core.display.Javascript object>"
            ],
            "application/javascript": [
              "download(\"download_74c88d5e-e77a-4151-b4bb-fa3d1cc6fb98\", \"vectorizer.pkl\", 7057)"
            ]
          },
          "metadata": {}
        }
      ]
    },
    {
      "cell_type": "code",
      "source": [],
      "metadata": {
        "id": "TtKde9yV64-n"
      },
      "id": "TtKde9yV64-n",
      "execution_count": null,
      "outputs": []
    }
  ],
  "metadata": {
    "colab": {
      "provenance": []
    },
    "language_info": {
      "name": "python"
    },
    "kernelspec": {
      "name": "python3",
      "display_name": "Python 3"
    }
  },
  "nbformat": 4,
  "nbformat_minor": 5
}